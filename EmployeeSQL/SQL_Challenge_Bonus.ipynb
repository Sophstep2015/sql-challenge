{
 "cells": [
  {
   "cell_type": "code",
   "execution_count": 1,
   "id": "1e729167",
   "metadata": {},
   "outputs": [],
   "source": [
    "#Import Dependencies\n",
    "\n",
    "import psycopg2\n",
    "import pandas as pd\n",
    "import matplotlib\n",
    "import matplotlib.pyplot as plt\n",
    "from config import pwd"
   ]
  },
  {
   "cell_type": "code",
   "execution_count": 2,
   "id": "b8b5af34",
   "metadata": {},
   "outputs": [],
   "source": [
    "#Connection\n",
    "\n",
    "conn = psycopg2.connect(\n",
    "    host=\"localhost\",\n",
    "    port= 5432,\n",
    "    database=\"sqlchallenge\",\n",
    "    user=\"postgres\",\n",
    "    password= pwd)"
   ]
  },
  {
   "cell_type": "code",
   "execution_count": 3,
   "id": "d2cd39e2",
   "metadata": {},
   "outputs": [],
   "source": [
    "#Load Data into Dataframes\n",
    "\n",
    "select = \"Select * from salaries\"\n",
    "select2 = \"Select * from titles\"\n",
    "select3 = \"Select * from employees\"\n",
    "df_salary = pd.read_sql(select, conn)\n",
    "df_titles = pd.read_sql(select2, conn)\n",
    "df_employees = pd.read_sql(select3, conn)"
   ]
  },
  {
   "cell_type": "code",
   "execution_count": 11,
   "id": "e7ce7140",
   "metadata": {},
   "outputs": [
    {
     "data": {
      "image/png": "[encoded data removed]",
      "text/plain": [
       "<Figure size 432x288 with 1 Axes>"
      ]
     },
     "metadata": {
      "needs_background": "light"
     },
     "output_type": "display_data"
    }
   ],
   "source": [
    "# Histogram of Salary Bonus Chart 1 \n",
    "plt.hist(df_salary['salary'])\n",
    "plt.xlabel(\"Salary\")\n",
    "plt.ylabel(\"# of Employees\")\n",
    "plt.title(\"Company Salary Ranges\")\n",
    "plt.show()\n",
    "plt.savefig(\"Company_Salary_Ranges.png\")"
   ]
  },
  {
   "cell_type": "code",
   "execution_count": 5,
   "id": "b4b8ff4e",
   "metadata": {},
   "outputs": [
    {
     "data": {
      "text/html": [
       "<div>\n",
       "<style scoped>\n",
       "    .dataframe tbody tr th:only-of-type {\n",
       "        vertical-align: middle;\n",
       "    }\n",
       "\n",
       "    .dataframe tbody tr th {\n",
       "        vertical-align: top;\n",
       "    }\n",
       "\n",
       "    .dataframe thead th {\n",
       "        text-align: right;\n",
       "    }\n",
       "</style>\n",
       "<table border=\"1\" class=\"dataframe\">\n",
       "  <thead>\n",
       "    <tr style=\"text-align: right;\">\n",
       "      <th></th>\n",
       "      <th>emp_no</th>\n",
       "      <th>title_id</th>\n",
       "      <th>brith_date</th>\n",
       "      <th>first_name</th>\n",
       "      <th>last_name</th>\n",
       "      <th>sex</th>\n",
       "      <th>hire_date</th>\n",
       "      <th>salary</th>\n",
       "      <th>title</th>\n",
       "    </tr>\n",
       "  </thead>\n",
       "  <tbody>\n",
       "    <tr>\n",
       "      <th>0</th>\n",
       "      <td>473302</td>\n",
       "      <td>s0001</td>\n",
       "      <td>1953-07-25</td>\n",
       "      <td>Hideyuki</td>\n",
       "      <td>Zallocco</td>\n",
       "      <td>M</td>\n",
       "      <td>1990-04-28</td>\n",
       "      <td>40000</td>\n",
       "      <td>Staff</td>\n",
       "    </tr>\n",
       "    <tr>\n",
       "      <th>1</th>\n",
       "      <td>421786</td>\n",
       "      <td>s0001</td>\n",
       "      <td>1957-09-28</td>\n",
       "      <td>Xiong</td>\n",
       "      <td>Verhoeff</td>\n",
       "      <td>M</td>\n",
       "      <td>1987-11-26</td>\n",
       "      <td>40000</td>\n",
       "      <td>Staff</td>\n",
       "    </tr>\n",
       "    <tr>\n",
       "      <th>2</th>\n",
       "      <td>273487</td>\n",
       "      <td>s0001</td>\n",
       "      <td>1957-04-14</td>\n",
       "      <td>Christoph</td>\n",
       "      <td>Parfitt</td>\n",
       "      <td>M</td>\n",
       "      <td>1991-06-28</td>\n",
       "      <td>56087</td>\n",
       "      <td>Staff</td>\n",
       "    </tr>\n",
       "    <tr>\n",
       "      <th>3</th>\n",
       "      <td>246449</td>\n",
       "      <td>s0001</td>\n",
       "      <td>1958-03-23</td>\n",
       "      <td>Subbu</td>\n",
       "      <td>Bultermann</td>\n",
       "      <td>F</td>\n",
       "      <td>1988-03-25</td>\n",
       "      <td>87084</td>\n",
       "      <td>Staff</td>\n",
       "    </tr>\n",
       "    <tr>\n",
       "      <th>4</th>\n",
       "      <td>48085</td>\n",
       "      <td>s0001</td>\n",
       "      <td>1964-01-19</td>\n",
       "      <td>Venkatesan</td>\n",
       "      <td>Gilg</td>\n",
       "      <td>M</td>\n",
       "      <td>1993-06-28</td>\n",
       "      <td>63016</td>\n",
       "      <td>Staff</td>\n",
       "    </tr>\n",
       "  </tbody>\n",
       "</table>\n",
       "</div>"
      ],
      "text/plain": [
       "   emp_no title_id  brith_date  first_name   last_name sex   hire_date  \\\n",
       "0  473302    s0001  1953-07-25    Hideyuki    Zallocco   M  1990-04-28   \n",
       "1  421786    s0001  1957-09-28       Xiong    Verhoeff   M  1987-11-26   \n",
       "2  273487    s0001  1957-04-14   Christoph     Parfitt   M  1991-06-28   \n",
       "3  246449    s0001  1958-03-23       Subbu  Bultermann   F  1988-03-25   \n",
       "4   48085    s0001  1964-01-19  Venkatesan        Gilg   M  1993-06-28   \n",
       "\n",
       "   salary  title  \n",
       "0   40000  Staff  \n",
       "1   40000  Staff  \n",
       "2   56087  Staff  \n",
       "3   87084  Staff  \n",
       "4   63016  Staff  "
      ]
     },
     "execution_count": 5,
     "metadata": {},
     "output_type": "execute_result"
    }
   ],
   "source": [
    "emp_no_title_no_salary = df_employees.merge(df_salary, on='emp_no')\n",
    "emp_no_title_no_salary.rename(columns = {'emp_title_id':'title_id'}, inplace = True)\n",
    "salary_by_pos_df = emp_no_title_no_salary.merge(df_titles, on='title_id')\n",
    "salary_by_pos_df.head()\n"
   ]
  },
  {
   "cell_type": "code",
   "execution_count": 10,
   "id": "ba0434f3",
   "metadata": {},
   "outputs": [
    {
     "data": {
      "image/png": "[encoded data removed]",
      "text/plain": [
       "<Figure size 432x288 with 1 Axes>"
      ]
     },
     "metadata": {
      "needs_background": "light"
     },
     "output_type": "display_data"
    }
   ],
   "source": [
    "pd.set_option(\"display.precision\", 0)\n",
    "positions = salary_by_pos_df.groupby(['title'])['salary'].mean()\n",
    "positions.plot.bar()\n",
    "plt.title(\"Average Salary By Position\")\n",
    "plt.xticks(rotation=80)\n",
    "plt.xlabel(\"Position Titles\")\n",
    "plt.ylabel(\"Average Salary ($)\")\n",
    "plt.show()\n",
    "plt.savefig(\"Avg_Salary_by_Postion.png\")"
   ]
  },
  {
   "cell_type": "code",
   "execution_count": 7,
   "id": "3bf8d3ad",
   "metadata": {},
   "outputs": [],
   "source": [
    "conn.close()"
   ]
  }
 ],
 "metadata": {
  "kernelspec": {
   "display_name": "Python 3",
   "language": "python",
   "name": "python3"
  },
  "language_info": {
   "codemirror_mode": {
    "name": "ipython",
    "version": 3
   },
   "file_extension": ".py",
   "mimetype": "text/x-python",
   "name": "python",
   "nbconvert_exporter": "python",
   "pygments_lexer": "ipython3",
   "version": "3.8.8"
  }
 },
 "nbformat": 4,
 "nbformat_minor": 5
}
